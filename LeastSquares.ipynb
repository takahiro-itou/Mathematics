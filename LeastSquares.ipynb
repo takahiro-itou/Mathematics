{
  "nbformat": 4,
  "nbformat_minor": 0,
  "metadata": {
    "colab": {
      "name": "LeastSquares",
      "provenance": [],
      "collapsed_sections": []
    },
    "kernelspec": {
      "name": "python3",
      "display_name": "Python 3"
    },
    "language_info": {
      "name": "python"
    }
  },
  "cells": [
    {
      "cell_type": "code",
      "execution_count": 1,
      "metadata": {
        "id": "9RJiDfPo3O1c"
      },
      "outputs": [],
      "source": [
        "%matplotlib inline\n",
        "import matplotlib\n",
        "import matplotlib.patches as patches\n",
        "import matplotlib.pyplot as plt\n",
        "import math\n",
        "import numpy"
      ]
    },
    {
      "cell_type": "code",
      "source": [
        "matplotlib.get_backend()"
      ],
      "metadata": {
        "colab": {
          "base_uri": "https://localhost:8080/",
          "height": 35
        },
        "id": "RGnRzbDn7T_F",
        "outputId": "4ea6265d-345e-4f60-9e84-4ecdb7374080"
      },
      "execution_count": 2,
      "outputs": [
        {
          "output_type": "execute_result",
          "data": {
            "text/plain": [
              "'module://ipykernel.pylab.backend_inline'"
            ],
            "application/vnd.google.colaboratory.intrinsic+json": {
              "type": "string"
            }
          },
          "metadata": {},
          "execution_count": 2
        }
      ]
    },
    {
      "cell_type": "markdown",
      "source": [
        "中心 (2, 3) 半径 6 の円周上に、ノイズを乗せて、点群を作る"
      ],
      "metadata": {
        "id": "wwkp6Ju1EAYs"
      }
    },
    {
      "cell_type": "code",
      "source": [
        "center = (2.0, 3.0)\n",
        "radius = 6.0"
      ],
      "metadata": {
        "id": "yL4H5j543WHG"
      },
      "execution_count": 3,
      "outputs": []
    },
    {
      "cell_type": "code",
      "source": [
        "x_list = []\n",
        "y_list = []\n",
        "x_append = x_list.append\n",
        "y_append = y_list.append\n",
        "for i in range(100):\n",
        "  theta = numpy.random.rand() * 2 * math.pi\n",
        "  x = center[0] + radius * math.cos(theta) + numpy.random.normal(0.0, 0.3)\n",
        "  y = center[1] + radius * math.sin(theta) + numpy.random.normal(0.0, 0.3)\n",
        "  x_append(x);\n",
        "  y_append(y);"
      ],
      "metadata": {
        "id": "sJ-cXmuX3nge"
      },
      "execution_count": 4,
      "outputs": []
    },
    {
      "cell_type": "code",
      "source": [
        "np_x = numpy.array(x_list);\n",
        "np_y = numpy.array(y_list);\n",
        "len(np_x)"
      ],
      "metadata": {
        "colab": {
          "base_uri": "https://localhost:8080/"
        },
        "id": "oycr-KlF5Dul",
        "outputId": "f0399478-2b2f-4afa-aa57-cb146981ed95"
      },
      "execution_count": 5,
      "outputs": [
        {
          "output_type": "execute_result",
          "data": {
            "text/plain": [
              "100"
            ]
          },
          "metadata": {},
          "execution_count": 5
        }
      ]
    },
    {
      "cell_type": "code",
      "source": [
        "np_x, np_y"
      ],
      "metadata": {
        "colab": {
          "base_uri": "https://localhost:8080/"
        },
        "id": "y0Aa7MFBDywM",
        "outputId": "b9c7a13a-ce1d-46a3-eb4a-94a5873ce618"
      },
      "execution_count": 6,
      "outputs": [
        {
          "output_type": "execute_result",
          "data": {
            "text/plain": [
              "(array([ 7.34129066,  5.74516318, -2.08000904, -1.26983373,  7.94961584,\n",
              "         2.26025028,  8.31481927, -3.86531505, -2.63137949,  8.28520899,\n",
              "         4.22173577,  3.95543304, -1.01387253, -3.69863064, -2.13282749,\n",
              "         8.4222775 , -0.5467952 ,  1.81016632,  7.43496486,  8.02987346,\n",
              "         3.52431776,  0.756679  ,  7.73283424, -3.06834089, -2.93155741,\n",
              "        -3.80736806,  6.26948217,  4.49169569, -2.33489134,  6.45105154,\n",
              "         5.38269376,  3.31285266,  8.05121716,  4.80441242, -2.33595812,\n",
              "         4.51721738, -0.98465108,  2.83016803, -4.29747895,  7.90799482,\n",
              "        -2.92919453, -3.33792289, -2.13472147,  1.59213066,  6.81935707,\n",
              "         5.21727872,  7.97425329,  2.79756722,  6.42269535, -0.53839232,\n",
              "         2.50479805,  7.03573193,  8.31685849, -1.37099609, -1.02550139,\n",
              "        -3.13197521,  5.53138651,  0.93487684,  7.00763938, -3.13369669,\n",
              "         4.04639258, -1.6637997 , -3.87218101,  4.64347472, -2.91131519,\n",
              "         4.73056434,  0.03048777,  7.11106895,  5.15382042,  7.64010692,\n",
              "        -1.43663348,  8.44912018,  6.92502078,  1.00781307,  0.28807003,\n",
              "        -3.64014152,  7.54538381,  6.9972003 , -3.28343427,  7.38208489,\n",
              "        -0.49042907,  4.94947337,  1.79535654,  7.87738665,  0.93043494,\n",
              "        -4.18986753,  7.76036866, -3.94448467,  4.30262773,  6.70450305,\n",
              "         7.84027047,  3.22528167,  8.26494615, -1.60851665,  0.42662412,\n",
              "        -3.58491527,  7.59856083, -3.02457588,  0.79580392,  7.5609037 ]),\n",
              " array([ 4.73111800e+00, -1.86070047e+00,  7.34768405e+00,  8.50642110e+00,\n",
              "         3.23795188e+00, -3.88353512e+00,  3.47007002e+00,  3.66094868e+00,\n",
              "         6.55307765e+00,  3.76777731e+00, -2.42559701e+00, -2.26542920e+00,\n",
              "        -2.01584549e+00,  3.41455565e+00, -1.67503124e+00,  3.04904656e+00,\n",
              "        -2.66298718e+00, -2.42685401e+00, -7.78524670e-02,  1.25895306e+00,\n",
              "         9.09991313e+00,  8.70495679e+00,  5.44821547e+00,  5.71072764e+00,\n",
              "         6.33636332e+00,  2.96008508e+00, -1.19460234e+00,  8.22831062e+00,\n",
              "         6.87009784e+00,  6.95405361e+00,  7.78729135e+00, -2.76943922e+00,\n",
              "         2.30066388e+00, -2.40603366e+00,  7.99366990e+00, -2.38168086e+00,\n",
              "         8.16878160e+00,  8.96068815e+00,  3.31143594e+00,  4.46909549e+00,\n",
              "         4.77139605e-01,  1.31041080e+00, -1.93094828e+00,  9.13715344e+00,\n",
              "        -6.20600479e-01,  8.05515003e+00,  1.79957000e+00,  8.89317151e+00,\n",
              "         6.61279258e+00, -2.12915309e+00, -2.76786292e+00, -2.08738306e-03,\n",
              "         2.92522656e+00,  7.98082082e+00,  8.07412767e+00,  5.47001044e+00,\n",
              "         7.73953389e+00,  9.05941101e+00,  6.34498932e+00,  1.81804823e-01,\n",
              "         8.72285781e+00,  7.69277759e+00,  1.29848823e+00,  8.33668460e+00,\n",
              "         9.06796124e-02,  8.57218974e+00, -2.25813463e+00,  5.82549147e+00,\n",
              "        -2.24715389e+00,  5.49499672e+00,  8.24025298e+00,  2.61395040e+00,\n",
              "         1.29302157e+00,  9.21890635e+00, -2.30826688e+00,  5.17385566e-01,\n",
              "         4.89083172e+00,  6.16007043e+00,  4.53284512e+00,  2.60689515e+00,\n",
              "        -3.17892673e+00,  8.58791536e+00,  8.98108432e+00,  3.54451175e+00,\n",
              "         8.71780028e+00,  3.84088416e+00,  1.11083362e+00,  5.35678133e+00,\n",
              "         8.42386150e+00, -5.25206242e-01,  7.40752080e-01, -3.45860479e+00,\n",
              "         2.92137600e+00, -1.26753132e+00,  8.72905342e+00,  6.15311418e+00,\n",
              "         5.65878340e+00,  6.35159768e+00, -2.65565896e+00,  7.41607536e-01]))"
            ]
          },
          "metadata": {},
          "execution_count": 6
        }
      ]
    },
    {
      "cell_type": "code",
      "source": [
        "fig = plt.figure()\n",
        "ax = plt.axes()\n",
        "ax.set_aspect('equal')\n",
        "\n",
        "ax.scatter(np_x, np_y)"
      ],
      "metadata": {
        "colab": {
          "base_uri": "https://localhost:8080/",
          "height": 282
        },
        "id": "KgcspCR14nje",
        "outputId": "fa4d1b91-a7b2-4f4e-c6ca-b5f1eba3cbc6"
      },
      "execution_count": 7,
      "outputs": [
        {
          "output_type": "execute_result",
          "data": {
            "text/plain": [
              "<matplotlib.collections.PathCollection at 0x7fa5c65dd290>"
            ]
          },
          "metadata": {},
          "execution_count": 7
        },
        {
          "output_type": "display_data",
          "data": {
            "text/plain": [
              "<Figure size 432x288 with 1 Axes>"
            ],
            "image/png": "[encoded data removed]"
          },
          "metadata": {
            "needs_background": "light"
          }
        }
      ]
    },
    {
      "cell_type": "markdown",
      "source": [
        "最小二乗法で、中心と半径を推定してみる\n",
        "\n",
        "python なら逆行列とかも簡単に計算できるが、練習のためあえて手計算で"
      ],
      "metadata": {
        "id": "5WRDwA1zEQ3s"
      }
    },
    {
      "cell_type": "code",
      "source": [
        "sum_xx = sum([ x * x for x in np_x]);\n",
        "sum_yy = sum([ y * y for y in np_y]);\n",
        "sum_xy = sum([ x * y for (x, y) in zip(np_x, np_y) ]);\n",
        "sum_x  = sum(np_x);\n",
        "sum_y  = sum(np_y);\n",
        "rhs1   = sum([ (x * x + y * y) * x for (x, y) in zip(np_x, np_y) ]);\n",
        "rhs2   = sum([ (x * x + y * y) * y for (x, y) in zip(np_x, np_y) ]);\n",
        "rhs3   = sum([ (x * x + y * y)     for (x, y) in zip(np_x, np_y) ]);"
      ],
      "metadata": {
        "id": "kySF-mwG470u"
      },
      "execution_count": 8,
      "outputs": []
    },
    {
      "cell_type": "code",
      "source": [
        "def gyaku_matrix_3x3(a11, a12, a13,\n",
        "                    a21, a22, a23,\n",
        "                    a31, a32, a33):\n",
        "  det = ((a11 * a22 * a33) + (a21 * a32 * a13) + (a31 * a12 * a23)\n",
        "         - (a11 * a32 * a23) - (a21 * a12 * a33) - (a31 * a22 * a13));\n",
        "  if (det == 0.0):\n",
        "    raise ValueError(\"No Inverse\");\n",
        "  # End If\n",
        "  \n",
        "  # 余因子\n",
        "  cofac11 = a22 * a33 - a23 * a32;\n",
        "  cofac12 = a21 * a33 - a23 * a31;\n",
        "  cofac13 = a21 * a32 - a22 * a31;\n",
        "\n",
        "  cofac21 = a12 * a33 - a13 * a32;\n",
        "  cofac22 = a11 * a33 - a13 * a31;\n",
        "  cofac23 = a11 * a32 - a12 * a31;\n",
        "\n",
        "  cofac31 = a12 * a23 - a13 * a22;\n",
        "  cofac32 = a11 * a23 - a13 * a21;\n",
        "  cofac33 = a11 * a22 - a12 * a21;\n",
        "\n",
        "  return  [ [ +cofac11 / det, -cofac21 / det, +cofac31 / det],\n",
        "            [ -cofac12 / det, +cofac22 / det, -cofac32 / det],\n",
        "            [ +cofac13 / det, -cofac23 / det, +cofac33 / det],\n",
        "  ]"
      ],
      "metadata": {
        "id": "Swf1-Kk85yse"
      },
      "execution_count": 9,
      "outputs": []
    },
    {
      "cell_type": "code",
      "source": [
        "a_inv = gyaku_matrix_3x3(sum_xx, sum_xy, sum_x,\n",
        "                     sum_xy, sum_yy, sum_y,\n",
        "                     sum_x,  sum_y,  len(np_x)\n",
        "                     );\n",
        "a_inv"
      ],
      "metadata": {
        "id": "v7fz8iLu5za_",
        "colab": {
          "base_uri": "https://localhost:8080/"
        },
        "outputId": "94cf6701-c7dc-43ab-c50a-1c7adca2fa6d"
      },
      "execution_count": 10,
      "outputs": [
        {
          "output_type": "execute_result",
          "data": {
            "text/plain": [
              "[[0.0005364377673160739, 2.648074249627274e-05, -0.0014640160353773307],\n",
              " [2.648074249627274e-05, 0.0005909260011475039, -0.002129660999425418],\n",
              " [-0.0014640160353773307, -0.002129660999425418, 0.021174485966652317]]"
            ]
          },
          "metadata": {},
          "execution_count": 10
        }
      ]
    },
    {
      "cell_type": "code",
      "source": [
        "A = - a_inv[0][0] * rhs1 - a_inv[0][1] * rhs2 - a_inv[0][2] * rhs3;\n",
        "B = - a_inv[1][0] * rhs1 - a_inv[1][1] * rhs2 - a_inv[1][2] * rhs3;\n",
        "C = - a_inv[2][0] * rhs1 - a_inv[2][1] * rhs2 - a_inv[2][2] * rhs3;\n",
        "(A, B, C)"
      ],
      "metadata": {
        "colab": {
          "base_uri": "https://localhost:8080/"
        },
        "id": "vYp9qko-Acm-",
        "outputId": "f1e35b20-a888-4040-dd30-fa1cc7ac789c"
      },
      "execution_count": 11,
      "outputs": [
        {
          "output_type": "execute_result",
          "data": {
            "text/plain": [
              "(-4.075967265804604, -6.038067585773588, -22.865462423217082)"
            ]
          },
          "metadata": {},
          "execution_count": 11
        }
      ]
    },
    {
      "cell_type": "code",
      "source": [
        "a = -A / 2; b = -B / 2; r = math.sqrt(A * A + B * B - 4 * C) / 2;\n",
        "(a, b, r)"
      ],
      "metadata": {
        "colab": {
          "base_uri": "https://localhost:8080/"
        },
        "id": "Yr0x7_1pAvI-",
        "outputId": "1b5f6685-d5cb-4cc8-d33e-f3cf6a9a4e70"
      },
      "execution_count": 12,
      "outputs": [
        {
          "output_type": "execute_result",
          "data": {
            "text/plain": [
              "(2.037983632902302, 3.019033792886794, 6.011106782763651)"
            ]
          },
          "metadata": {},
          "execution_count": 12
        }
      ]
    },
    {
      "cell_type": "code",
      "source": [
        "c = patches.Circle(xy=(a, b), radius=r, fc='g', ec='r', fill=False)\n",
        "ax.add_patch(c)"
      ],
      "metadata": {
        "colab": {
          "base_uri": "https://localhost:8080/"
        },
        "id": "pv18lr21BBsG",
        "outputId": "ec419e01-51cf-4f83-d5a2-66c081b8ba4c"
      },
      "execution_count": 13,
      "outputs": [
        {
          "output_type": "execute_result",
          "data": {
            "text/plain": [
              "<matplotlib.patches.Circle at 0x7fa5c654a4d0>"
            ]
          },
          "metadata": {},
          "execution_count": 13
        }
      ]
    },
    {
      "cell_type": "code",
      "source": [
        "display(fig)"
      ],
      "metadata": {
        "colab": {
          "base_uri": "https://localhost:8080/",
          "height": 265
        },
        "id": "j7CJhUqGBcLO",
        "outputId": "8c9d6420-6460-4d62-cc6b-6f77364f11ab"
      },
      "execution_count": 14,
      "outputs": [
        {
          "output_type": "display_data",
          "data": {
            "text/plain": [
              "<Figure size 432x288 with 1 Axes>"
            ],
            "image/png": "[encoded data removed]"
          },
          "metadata": {}
        }
      ]
    }
  ]
}